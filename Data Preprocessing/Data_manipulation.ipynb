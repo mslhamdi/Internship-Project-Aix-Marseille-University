{
 "cells": [
  {
   "cell_type": "code",
   "execution_count": 1,
   "metadata": {},
   "outputs": [],
   "source": [
    "#Importing packages\n",
    "\n",
    "import os\n",
    "import pandas as pd\n",
    "import matplotlib.pyplot as plt\n",
    "import seaborn as sns\n",
    "import shutil"
   ]
  },
  {
   "cell_type": "code",
   "execution_count": 2,
   "metadata": {},
   "outputs": [
    {
     "data": {
      "text/plain": [
       "'d:\\\\Stagiaire_2023_Saad\\\\Working space'"
      ]
     },
     "execution_count": 2,
     "metadata": {},
     "output_type": "execute_result"
    }
   ],
   "source": [
    "os.getcwd()"
   ]
  },
  {
   "attachments": {},
   "cell_type": "markdown",
   "metadata": {},
   "source": [
    "**Total number of days where we have taken shots**"
   ]
  },
  {
   "cell_type": "code",
   "execution_count": 3,
   "metadata": {},
   "outputs": [
    {
     "name": "stdout",
     "output_type": "stream",
     "text": [
      "Le nombres de jour où on a pris des photos est: 304\n"
     ]
    }
   ],
   "source": [
    "# skycamera22 is the original folder that was containing the raw data\n",
    "data_dir=\"skycamera22\"\n",
    "def nombre_total_de_jours(data_dir):\n",
    "    j=len(os.listdir(data_dir))\n",
    "    print(f\"Le nombres de jour où on a pris des photos est: {j}\")\n",
    "\n",
    "nombre_total_de_jours(data_dir)"
   ]
  },
  {
   "cell_type": "markdown",
   "metadata": {},
   "source": [
    "**Number of images for any particular day**"
   ]
  },
  {
   "cell_type": "code",
   "execution_count": 8,
   "metadata": {},
   "outputs": [
    {
     "name": "stdout",
     "output_type": "stream",
     "text": [
      "Le nombre d'images du jour: 20220816 est: 1709\n"
     ]
    }
   ],
   "source": [
    "def nbre_images(jour):\n",
    "    data_dir=\"skycamera22\"\n",
    "    nbr=len(os.listdir(os.path.join(\"skycamera22\",jour)))\n",
    "    print(f\"Le nombre d'images du jour: {jour} est:\",nbr)\n",
    "\n",
    "nbre_images(os.listdir(\"skycamera22\")[190])\n"
   ]
  },
  {
   "attachments": {},
   "cell_type": "markdown",
   "metadata": {},
   "source": [
    "**Testing some useful functions i will need later**"
   ]
  },
  {
   "cell_type": "code",
   "execution_count": 9,
   "metadata": {},
   "outputs": [
    {
     "name": "stdout",
     "output_type": "stream",
     "text": [
      "2021-11-17\n"
     ]
    }
   ],
   "source": [
    "def transform_subfolder_to_date_format(name):\n",
    "    #This function is transforming and will make the syntax of folders more clear\n",
    "    if (\"-\" in name)==True: #in case the name was already modified\n",
    "        return name\n",
    "    else:\n",
    "        strd=\"\"\n",
    "        strd+=str(name[0:4])\n",
    "        strd+=\"-\"\n",
    "        strd+=str(name[4:6])\n",
    "        strd+=\"-\"\n",
    "        strd+=str(name[6:8])\n",
    "        return strd\n",
    "    \n",
    "print(transform_subfolder_to_date_format(\"20211117\"))    "
   ]
  },
  {
   "attachments": {},
   "cell_type": "markdown",
   "metadata": {},
   "source": [
    "**Create a copy of DATA folder so that if an error occur, i can easily re run the entire cells and return to my actual situation**"
   ]
  },
  {
   "cell_type": "code",
   "execution_count": 29,
   "metadata": {},
   "outputs": [],
   "source": [
    "#Create a copy of DATA folder so that if an error occur, i can easily re run the entire cells and return to my actual situation\n",
    "source_path=os.path.join(os.getcwd(),\"DATA\")\n",
    "destination_path=os.path.join(os.getcwd(),\"DATA-copie\")\n",
    "\n",
    "def copy_folder(src,dest):\n",
    "    if os.path.exists(dest):\n",
    "        shutil.rmtree(dest)\n",
    "    shutil.copytree(src,dest)\n",
    "\n",
    "copy_folder(source_path,destination_path)\n",
    "\n",
    "#os.rename(\"DATA-copie\\CLEAN\",\"DATA_copie\") # \n",
    "def custom_rename(actual,future):\n",
    "    if os.path.exists(future):\n",
    "        shutil.rmtree(future)\n",
    "    os.rename(actual,future)\n",
    "\n",
    "custom_rename(\"DATA-copie\\CLEAN\",\"DATA_copie\")\n",
    "shutil.rmtree(\"DATA-copie\")\n"
   ]
  },
  {
   "attachments": {},
   "cell_type": "markdown",
   "metadata": {},
   "source": [
    "**Renaming the day folders (subfolders) that contains images into a more relevant name**"
   ]
  },
  {
   "cell_type": "code",
   "execution_count": 67,
   "metadata": {},
   "outputs": [],
   "source": [
    "#Renaming the day folders that contains images to a more relevant syntax\n",
    "for folder in os.listdir(\"DATA_copie\"):\n",
    "    os.rename(os.path.join(\"DATA_copie\",folder),os.path.join(\"DATA_copie\",transform_subfolder_to_date_format(folder)))\n",
    "#Exemple, 20211117 will become 2021-11-17"
   ]
  },
  {
   "attachments": {},
   "cell_type": "markdown",
   "metadata": {},
   "source": [
    "**Extract csv files to a new folder before renaming the images in that folder**"
   ]
  },
  {
   "cell_type": "code",
   "execution_count": 71,
   "metadata": {},
   "outputs": [],
   "source": [
    "#Extract csv files to a new intermediate folder before preprocessing\n",
    "source_dir=\"DATA_copie\"\n",
    "destination_folder=\"csv_files\"\n",
    "os.makedirs(destination_folder)\n",
    "\n",
    "def extract_csv_files_to_new_folder(source_dir,destination_folder):\n",
    "    for sub_folder in os.listdir(source_dir):\n",
    "        for file in os.listdir(os.path.join(source_dir,sub_folder)):\n",
    "            file_format=file.split(\".\")[-1]\n",
    "            if file_format==\"csv\":\n",
    "                os.rename((os.path.join(source_dir,sub_folder,file)),os.path.join(destination_folder,sub_folder+\".csv\"))\n",
    "\n",
    "extract_csv_files_to_new_folder(source_dir,destination_folder)"
   ]
  },
  {
   "cell_type": "markdown",
   "metadata": {},
   "source": [
    "**Renaming jpg images in day folders just by their time**"
   ]
  },
  {
   "cell_type": "code",
   "execution_count": 13,
   "metadata": {},
   "outputs": [
    {
     "data": {
      "text/plain": [
       "'06-05_2.jpg'"
      ]
     },
     "execution_count": 13,
     "metadata": {},
     "output_type": "execute_result"
    }
   ],
   "source": [
    "#Apply it to a single exemple\n",
    "def transform_img_name_to_time(date_time):\n",
    "    if (\"-\" in date_time)==True: #Check if the image has been already transformed then leave it as it is\n",
    "        return date_time\n",
    "    else:\n",
    "        timee=\"\"\n",
    "        timee+=date_time[8:10]\n",
    "        timee+=\"-\"\n",
    "        timee+=date_time[10:12]\n",
    "        timee+=\"_\"\n",
    "        timee+=date_time[-5]\n",
    "        timee+=date_time[-4:-1]\n",
    "        timee+=date_time[-1]\n",
    "\n",
    "        return timee\n",
    "\n",
    "transform_img_name_to_time(\"20211104060500_12.jpg\")\n",
    "#Exemple: 20211104060500_12.jpg is becoming 06-05_2.jpg\n",
    "\n",
    "\n"
   ]
  },
  {
   "cell_type": "code",
   "execution_count": 77,
   "metadata": {},
   "outputs": [],
   "source": [
    "#Apply it to all files\n",
    "source_dir=\"DATA_copie\"\n",
    "for folder in os.listdir(source_dir):\n",
    "    for file in os.listdir(os.path.join(source_dir,folder)):\n",
    "        os.rename((os.path.join(source_dir,folder,file)),(os.path.join(source_dir,folder,transform_img_name_to_time(file))))"
   ]
  },
  {
   "attachments": {},
   "cell_type": "markdown",
   "metadata": {},
   "source": [
    "**A general function that does all the stuf in one click..**"
   ]
  },
  {
   "cell_type": "code",
   "execution_count": 1,
   "metadata": {},
   "outputs": [],
   "source": [
    "import os\n",
    "import pandas as pd\n",
    "import matplotlib.pyplot as plt\n",
    "import seaborn as sns\n",
    "import shutil\n",
    "\n",
    "def transform_subfolder_to_date_format(name):\n",
    "    if (\"-\" in name)==True: #dans le cas ou le nom est deja modifie\n",
    "        return name\n",
    "    else:\n",
    "        strd=\"\"\n",
    "        strd+=str(name[0:4])\n",
    "        strd+=\"-\"\n",
    "        strd+=str(name[4:6])\n",
    "        strd+=\"-\"\n",
    "        strd+=str(name[6:8])\n",
    "        return strd\n",
    "\n",
    "def extract_csv_files_to_new_folder(source_dir,destination_folder):\n",
    "    for sub_folder in os.listdir(source_dir):\n",
    "        for file in os.listdir(os.path.join(source_dir,sub_folder)):\n",
    "            file_format=file.split(\".\")[-1]\n",
    "            if file_format==\"csv\":\n",
    "                os.rename((os.path.join(source_dir,sub_folder,file)),os.path.join(destination_folder,sub_folder+\".csv\"))\n",
    "\n",
    "def transform_img_name_to_time(date_time):\n",
    "    if (\"-\" in date_time)==True: #Check if the image has been already transformed then leave it as it is\n",
    "        return date_time\n",
    "    else:\n",
    "        timee=\"\"\n",
    "        timee+=date_time[8:10]\n",
    "        timee+=\"-\"\n",
    "        timee+=date_time[10:12]\n",
    "        timee+=\"_\"\n",
    "        timee+=date_time[-5]\n",
    "        timee+=date_time[-4:-1]\n",
    "        timee+=date_time[-1]\n",
    "        return timee\n",
    "\n",
    "source_dir=\"Skycamera_images\"\n",
    "destination_folder=\"csv_files_entire_data\"\n",
    "\n",
    "\n",
    "def first_preprocess_step(source_dir,destination_folder):\n",
    "\n",
    "    if os.path.exists(destination_folder):\n",
    "        shutil.rmtree(destination_folder)\n",
    "    else:\n",
    "        os.makedirs(destination_folder)\n",
    "\n",
    "    #Renaming the day folders that contains images\n",
    "    for sub_folder in os.listdir(source_dir):\n",
    "        os.rename(os.path.join(source_dir,sub_folder),os.path.join(source_dir,transform_subfolder_to_date_format(sub_folder)))\n",
    "\n",
    "\n",
    "    #Extract csv files to a new intermediate folder before preprocessing\n",
    "    extract_csv_files_to_new_folder(source_dir,destination_folder)\n",
    "\n",
    "\n",
    "    #Rename days files to a time format\n",
    "    for sub_folder in os.listdir(source_dir):\n",
    "        for file in os.listdir(os.path.join(source_dir,sub_folder)):\n",
    "            os.rename((os.path.join(source_dir,sub_folder,file)),(os.path.join(source_dir,sub_folder,transform_img_name_to_time(file))))\n",
    "\n",
    "    #Now, for each image in each minute, i have _1 and _2 version of them. The two images are espaced by 5 seconds. I will delete one and let only one and rename it to\n",
    "    #its corresponding time\n",
    "    for sub_folder in os.listdir(source_dir):\n",
    "        for file in os.listdir(os.path.join(source_dir,sub_folder)):\n",
    "            if file[-5]==\"2\":\n",
    "                os.remove(os.path.join(source_dir,sub_folder,file))\n",
    "            else:\n",
    "                os.rename((os.path.join(source_dir,sub_folder,file)),(os.path.join(source_dir,sub_folder,file[:5]+\".jpg\")))\n",
    "\n",
    "\n",
    "first_preprocess_step(source_dir,destination_folder)"
   ]
  },
  {
   "cell_type": "markdown",
   "metadata": {},
   "source": [
    "**Deleting data of days that have a little number of images or irradiance values**"
   ]
  },
  {
   "cell_type": "code",
   "execution_count": 35,
   "metadata": {},
   "outputs": [],
   "source": [
    "#Also before, let's check the length of subfolders and delete those that have a little number of images\n",
    "#Because they will not construct for us relevent sequences that we can train our model on...\n",
    "for sub in os.listdir(\"skycamera_images\"):\n",
    "    if len(os.listdir(os.path.join(\"skycamera_images\",sub)))<250:\n",
    "        path=os.path.join(\"skycamera_images\",sub)\n",
    "        print(sub)\n",
    "    \n",
    "#The files i have got are just some little number of files, so i just delet them manually..."
   ]
  },
  {
   "cell_type": "markdown",
   "metadata": {},
   "source": [
    "**Checking the total number of data**"
   ]
  },
  {
   "cell_type": "code",
   "execution_count": 45,
   "metadata": {},
   "outputs": [
    {
     "name": "stdout",
     "output_type": "stream",
     "text": [
      "The total number of days is: 444\n",
      "The total number of images is: 333935 images\n"
     ]
    }
   ],
   "source": [
    "#Check the total number of images:\n",
    "nbr=0\n",
    "source_dir=\"skycamera_images\"\n",
    "for sub_folder in os.listdir(\"skycamera_images\"):\n",
    "    nbr+=len(os.listdir(os.path.join(source_dir,sub_folder)))\n",
    "\n",
    "days_nbre=len(os.listdir(\"skycamera_images\"))\n",
    "#days_nbre_2=len(os.listdir(\"skycamera22-real data\"))\n",
    "print(f\"The total number of days is: {days_nbre}\")\n",
    "#print(f\"The total number of days 2 is: {days_nbre_2}\")\n",
    "print(f\"The total number of images is: {nbr} images\")"
   ]
  },
  {
   "cell_type": "markdown",
   "metadata": {},
   "source": [
    "**Checking that we have images data and labels data for the same days and if not, deleting the excess**"
   ]
  },
  {
   "cell_type": "code",
   "execution_count": 7,
   "metadata": {},
   "outputs": [
    {
     "name": "stdout",
     "output_type": "stream",
     "text": [
      "441\n",
      "441\n",
      "Les dossiers images a supprimer qui n'ont pas de correspondance sont: set()\n",
      "441\n",
      "True\n"
     ]
    }
   ],
   "source": [
    "# Look at csv_preprocessing file to find out how i created preprocess_csv_files_new from csv_files_entire_data (also csv_files_entire_data - real data is just\n",
    "#a copy of csv_files_entire_data to make sure the data is well preserved if an error came in executing some programs)\n",
    "\n",
    "import os\n",
    "print(len(os.listdir(\"preprocess_csv_files_new\")))\n",
    "print(len(os.listdir(\"skycamera_images\")))\n",
    "L_1=os.listdir(\"preprocess_csv_files_new\")\n",
    "for i in range (len(L_1)):\n",
    "    L_1[i]=L_1[i][:-4]\n",
    "set_csv=set(L_1)\n",
    "\n",
    "L_2=os.listdir(\"csv_files_entire_data\")\n",
    "\n",
    "set_images=set(os.listdir(\"skycamera_images\"))\n",
    "\n",
    "print(f\"Les dossiers images a supprimer qui n'ont pas de correspondance sont: {set_images-set_csv}\")\n",
    "print(len(set_images.intersection(set_csv)))\n",
    "\n",
    "print(set_csv==set_images)\n",
    "\n",
    "#Deleting unmatched data can be done manually if there is not a lot"
   ]
  },
  {
   "cell_type": "markdown",
   "metadata": {},
   "source": [
    "**Checking the total number of deleted days' data**"
   ]
  },
  {
   "cell_type": "code",
   "execution_count": 46,
   "metadata": {},
   "outputs": [
    {
     "name": "stdout",
     "output_type": "stream",
     "text": [
      "444\n",
      "477\n"
     ]
    }
   ],
   "source": [
    "print(len(os.listdir(\"skycamera_images\")))\n",
    "print(len(os.listdir(\"skycamera22-real data\")))\n",
    "#Also i remark that there are some csv files with 0kb so there are empty and i delete them\n",
    "#Also unmatched image and csv folders\n",
    "\n",
    "#In total, there are around 33 days of data that was deleted..\n"
   ]
  }
 ],
 "metadata": {
  "kernelspec": {
   "display_name": "base",
   "language": "python",
   "name": "python3"
  },
  "language_info": {
   "codemirror_mode": {
    "name": "ipython",
    "version": 3
   },
   "file_extension": ".py",
   "mimetype": "text/x-python",
   "name": "python",
   "nbconvert_exporter": "python",
   "pygments_lexer": "ipython3",
   "version": "3.7.0"
  },
  "orig_nbformat": 4
 },
 "nbformat": 4,
 "nbformat_minor": 2
}
