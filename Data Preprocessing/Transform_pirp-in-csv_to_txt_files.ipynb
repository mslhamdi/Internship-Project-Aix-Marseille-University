{
 "cells": [
  {
   "cell_type": "code",
   "execution_count": 1,
   "metadata": {},
   "outputs": [],
   "source": [
    "#Importing packages\n",
    "\n",
    "import pandas as pd\n",
    "import os\n",
    "import numpy as np\n",
    "import matplotlib.pyplot as plt\n",
    "import seaborn as sns\n",
    "import shutil\n",
    "import tensorflow"
   ]
  },
  {
   "attachments": {},
   "cell_type": "markdown",
   "metadata": {},
   "source": [
    "**Building and testing some useful functions**"
   ]
  },
  {
   "cell_type": "code",
   "execution_count": 42,
   "metadata": {},
   "outputs": [
    {
     "name": "stdout",
     "output_type": "stream",
     "text": [
      "20-11\n",
      "(1200, 3)\n",
      "0\n",
      "00-11\n"
     ]
    },
    {
     "data": {
      "text/plain": [
       "'\\nos.makedirs(os.path.join(\"saad\",\"moha\"),exist_ok=True)\\nwith open(os.path.join(\"saad\",\"moha\",\"help\"+\".txt\"),\"w\") as file:\\n    file.write(str(pirp))\\n'"
      ]
     },
     "execution_count": 42,
     "metadata": {},
     "output_type": "execute_result"
    }
   ],
   "source": [
    "#I use preprocess_csv_files_new - Copie to preserve the orignal folder\n",
    "csv_dir=os.path.join(\"preprocess_csv_files_new - Copie\",\"2021-11-04.csv\")\n",
    "data=pd.read_csv(csv_dir,delimiter=\";\")\n",
    "\n",
    "def transform_time_2_file_format(timee):\n",
    "    L=timee.split(\":\")\n",
    "    trans=L[0]+\"-\"+L[1]\n",
    "    return trans\n",
    "\n",
    "timee=data.loc[1000,\"Time\"]\n",
    "print(transform_time_2_file_format(timee))\n",
    "\n",
    "pirp=data.loc[1199,\"PIRP_value\"]\n",
    "timee=data.loc[0,\"Time\"]\n",
    "print(data.shape)\n",
    "print(pirp)\n",
    "print(transform_time_2_file_format(timee))\n",
    "    "
   ]
  },
  {
   "cell_type": "markdown",
   "metadata": {},
   "source": [
    "**Constructing labels_new folder that contains txt files named by the corresponding time and it contains the corresponding irradiance value of that time**"
   ]
  },
  {
   "cell_type": "code",
   "execution_count": 9,
   "metadata": {},
   "outputs": [],
   "source": [
    "def transform_time_2_file_format(timee):\n",
    "    L=timee.split(\":\")\n",
    "    trans=L[0]+\"-\"+L[1]\n",
    "    return trans\n",
    "\n",
    "def construct_label_folder():\n",
    "    if os.path.exists(\"labels_new\"):\n",
    "    #If the folder already exists, delete it and create a new one\n",
    "        shutil.rmtree(\"labels_new\")\n",
    "    os.makedirs(\"labels_new\")\n",
    "\n",
    "    for file in os.listdir(\"preprocess_csv_files_new - Copie\"):\n",
    "        folder_name=file.split(\".\")[0]\n",
    "        folder_path=os.path.join(\"labels_new\",folder_name)\n",
    "        if os.path.exists(folder_path):\n",
    "        #If the subfolder corresponding to a particular day already exists, delete it and create a new one\n",
    "            shutil.rmtree(folder_path)\n",
    "        os.makedirs(folder_path)\n",
    "\n",
    "    for file in os.listdir(\"preprocess_csv_files_new - Copie\"):  \n",
    "        data=pd.read_csv(os.path.join(\"preprocess_csv_files_new - Copie\",file),delimiter=\";\",error_bad_lines=False)\n",
    "        file_name=file.split(\".\")[0]\n",
    "        for e in range(data.shape[0]):\n",
    "            timee=data.loc[e,\"Time\"]\n",
    "            pirp=data.loc[e,\"PIRP_value\"]\n",
    "            \n",
    "            #os.makedirs(os.path.join(\"labels\",file_name,timee))\n",
    "            with open(os.path.join(\"labels_new\",file_name,transform_time_2_file_format(timee)+\".txt\"),\"w\") as file:\n",
    "                #Writing the irradiance value in the txt file which name is the time that irradiance value was taken\n",
    "                file.write(str(pirp))\n",
    "            file.close()\n",
    "\n",
    "construct_label_folder()"
   ]
  }
 ],
 "metadata": {
  "kernelspec": {
   "display_name": "base",
   "language": "python",
   "name": "python3"
  },
  "language_info": {
   "codemirror_mode": {
    "name": "ipython",
    "version": 3
   },
   "file_extension": ".py",
   "mimetype": "text/x-python",
   "name": "python",
   "nbconvert_exporter": "python",
   "pygments_lexer": "ipython3",
   "version": "3.7.0"
  },
  "orig_nbformat": 4
 },
 "nbformat": 4,
 "nbformat_minor": 2
}
